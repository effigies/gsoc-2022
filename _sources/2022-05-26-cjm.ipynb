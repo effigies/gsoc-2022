{
 "cells": [
  {
   "cell_type": "markdown",
   "id": "e07f7a57",
   "metadata": {},
   "source": [
    "# Welcome to the Nipype GSoC blog!\n",
    "\n",
    "This year, Nipype was awarded three Google Summer of Code projects:\n",
    "\n",
    "* [Adding BIDS Prov to new dataflow engine written in Python: Pydra](https://neurostars.org/t/21417)\n",
    "* [Adding new workers and resource management to new dataflow engine written in Python: Pydra](https://neurostars.org/t/21418)\n",
    "* [Converting existing scientific workflows to new dataflow engine written in Python: Pydra](https://neurostars.org/t/21419)\n",
    "\n",
    "We're starting this blog where awardees can post about their progress\n",
    "as they work on their projects.\n",
    "\n",
    "*Posted by [Chris](https://github.com/effigies) @ 2022-05-26*"
   ]
  }
 ],
 "metadata": {
  "jupytext": {
   "formats": "md:myst",
   "text_representation": {
    "extension": ".md",
    "format_name": "myst"
   }
  },
  "kernelspec": {
   "display_name": "Python 3",
   "language": "python",
   "name": "python3"
  },
  "language_info": {
   "codemirror_mode": {
    "name": "ipython",
    "version": 3
   },
   "file_extension": ".py",
   "mimetype": "text/x-python",
   "name": "python",
   "nbconvert_exporter": "python",
   "pygments_lexer": "ipython3",
   "version": "3.9.12"
  },
  "source_map": [
   11
  ]
 },
 "nbformat": 4,
 "nbformat_minor": 5
}